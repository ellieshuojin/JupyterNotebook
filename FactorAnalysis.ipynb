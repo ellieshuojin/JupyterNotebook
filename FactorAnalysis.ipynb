{
 "cells": [
  {
   "cell_type": "markdown",
   "metadata": {},
   "source": [
    "<p style=\"text-align:center; font-size:40px; margin-bottom: 30px;\"><b>Factor Analysis</b></p>\n",
    "\n",
    "<hr style=\"height:5px;border:none\" />"
   ]
  },
  {
   "cell_type": "markdown",
   "metadata": {},
   "source": [
    "# 1. What is a factor analysis\n",
    "<hr style=\"height:1px;border:none\" />\n",
    "\n",
    "A **factor analysis** is similar to a [PCA](https://github.com/ellieshuojin/JupyterNotebook/blob/master/PCA.ipynb) in a sense that it seeks a small number of factors to explain the data. However, conceptually a PCA and a factor analysis are different. While a PCA seeks to summarize the variability in a data with correlated features as uncorrelated principal components, a factor analysis tries to describe each of correlated features as a linear combination of a small number of uncorrelated variables, known as latent variables, or factors. In other words, the goal of a factor analysis is to describe the data with a small number of factors.\n",
    "\n",
    "A factor analysis makes additional assumptions not in a PCA:\n",
    "  * Latent variables are distributed as independent Gaussian random variables.\n",
    "  * Latent variables have zero mean and unit variance.\n",
    "  \n",
    "To understand a factor analysis, let's take a look at a simple example."
   ]
  },
  {
   "cell_type": "markdown",
   "metadata": {},
   "source": [
    "# 2. Example\n",
    "<hr style=\"height:1px;border:none\" />\n",
    "\n",
    "## Data\n",
    "The data set for this example, **`wiscsem.txt`** consists of the Weschler Intelligence Scale for Children (WISC) of 175 children. There are 11 features in this data set.\n",
    "\n",
    " * `info`: Information\n",
    " * `comp`: Comprehension\n",
    " * `arith`: Arithmetic\n",
    " * `simil`: Similarities\n",
    " * `vocab`: Vocabulary\n",
    " * `digit`: Digit Span\n",
    " * `pictcomp`: Picture Completion\n",
    " * `parang`: Paragraph Arrangement\n",
    " * `block`: Block Design\n",
    " * `object`: Object Assembly\n",
    " * `coding`: Coding\n",
    " \n",
    "<p style=\"text-align:center; font-size:10px; margin-top: 12px; margin-bottom: 12px;\"> \n",
    "Source: Tabachnick & Fidell, *Using Multivariate Statistics*, 6th Ed. Pearson.\n",
    "http://media.pearsoncmg.com/ab/ab_tabachnick_multistats_6/datafiles/ASCII/wiscsem.dat </p>"
   ]
  },
  {
   "cell_type": "code",
   "execution_count": 1,
   "metadata": {},
   "outputs": [],
   "source": [
    "%matplotlib inline"
   ]
  },
  {
   "cell_type": "code",
   "execution_count": 2,
   "metadata": {},
   "outputs": [],
   "source": [
    "import numpy as np\n",
    "import pandas as pd\n",
    "import matplotlib.pyplot as plt\n",
    "from sklearn.decomposition import FactorAnalysis\n",
    "\n",
    "# loading the data\n",
    "wiscData = pd.read_csv('wiscsem.txt', sep='\\t')\n",
    "wiscFeatures = np.array(wiscData.iloc[:,2:13])\n",
    "featureNames = np.array(wiscData.columns[2:13])"
   ]
  },
  {
   "cell_type": "markdown",
   "metadata": {},
   "source": [
    "## Factor analysis\n",
    "\n",
    "Like PCA, a factor analysis is a transformation object **`FactorAnalysis`** under **`sklern.decompositon`**. Now, we shall apply the factor analysis to the WISC data. Here, we do not specify the number of components, so that the maximum possible number of factors (equals to the number of features) will be determined.\n"
   ]
  },
  {
   "cell_type": "code",
   "execution_count": 3,
   "metadata": {},
   "outputs": [],
   "source": [
    "# applying factor analysis\n",
    "FA = FactorAnalysis()  # creating a factor analysis transformation object\n",
    "wiscFA = FA.fit(wiscFeatures) # fit the data"
   ]
  },
  {
   "cell_type": "markdown",
   "metadata": {},
   "source": [
    "Now, let's take a look at the results from this analysis. Like PCA, the factors are stored in **`FA.components_`**. "
   ]
  },
  {
   "cell_type": "code",
   "execution_count": 4,
   "metadata": {},
   "outputs": [
    {
     "data": {
      "text/plain": [
       "(11, 11)"
      ]
     },
     "execution_count": 4,
     "metadata": {},
     "output_type": "execute_result"
    }
   ],
   "source": [
    "FA.components_.shape"
   ]
  },
  {
   "cell_type": "markdown",
   "metadata": {},
   "source": [
    "Here, the rows corresponds to factors, and columns correspond to features. Let's take a look at the first factor, Factor 1. "
   ]
  },
  {
   "cell_type": "code",
   "execution_count": 5,
   "metadata": {},
   "outputs": [
    {
     "data": {
      "text/plain": [
       "array([ 2.10071154,  2.22649291,  1.26055822,  2.42251688,  2.17578256,\n",
       "        1.07024014,  1.64726752,  1.10643563,  1.46536729,  1.30636613,\n",
       "        0.23448759])"
      ]
     },
     "execution_count": 5,
     "metadata": {},
     "output_type": "execute_result"
    }
   ],
   "source": [
    "FA.components_[0,:]"
   ]
  },
  {
   "cell_type": "code",
   "execution_count": 6,
   "metadata": {},
   "outputs": [
    {
     "data": {
      "text/plain": [
       "array(['info', 'comp', 'arith', 'simil', 'vocab', 'digit', 'pictcomp',\n",
       "       'parang', 'block', 'object', 'coding'], dtype=object)"
      ]
     },
     "execution_count": 6,
     "metadata": {},
     "output_type": "execute_result"
    }
   ],
   "source": [
    "featureNames"
   ]
  },
  {
   "cell_type": "markdown",
   "metadata": {},
   "source": [
    "These numbers are called **loadings** or ** factor loadings**. Each of these numbers represent how much Factor 1 contributes to a feature. For example, the factor loading corresponding to feature **`info`** is 2.10. This means 2.10 $\\times$ Factor 1 is the contribution from Factor 1 to **`info`**. The larger the loading, then the larger the contribution from the corresponding Factor."
   ]
  },
  {
   "cell_type": "markdown",
   "metadata": {},
   "source": [
    "## Scree plot\n",
    "\n",
    "Now, in the earlier factor analysis, we calculated as many factors as we were able to. But we would like to have as few factors as possible. To determine the number of required factors, we generate a Scree plot, just as in a PCA. Unlike a PCA, we plot **eigenvalues** associated with each factor on the y-axis, and the component number on the x-axis. The eigenvalue of a factor can be calculated by squaring all the factor loadings associated with that factor, and summing them together. Here is a code to calculate eigenvalues and produce a Scree plot."
   ]
  },
  {
   "cell_type": "code",
   "execution_count": 7,
   "metadata": {},
   "outputs": [
    {
     "data": {
      "image/png": "[encoded data removed]",
      "text/plain": [
       "<matplotlib.figure.Figure at 0x112491f98>"
      ]
     },
     "metadata": {},
     "output_type": "display_data"
    }
   ],
   "source": [
    "# Scree plot\n",
    "eigenV = np.sum(FA.components_**2, axis=1)\n",
    "plt.plot(np.arange(1,12), eigenV)\n",
    "plt.xlabel('Component number')\n",
    "plt.ylabel('Eigenvalue')\n",
    "plt.show()"
   ]
  },
  {
   "cell_type": "markdown",
   "metadata": {},
   "source": [
    "It seems that there is an *elbow* at Factor 2. So we re-run the factor analysis with just 2 components this time."
   ]
  },
  {
   "cell_type": "code",
   "execution_count": 8,
   "metadata": {},
   "outputs": [],
   "source": [
    "# applying factor analysis with 2 components only\n",
    "reFA = FactorAnalysis(n_components=2)  # creating a factor analysis transformation object\n",
    "wiscReFA = reFA.fit(wiscFeatures) # fit the data"
   ]
  },
  {
   "cell_type": "markdown",
   "metadata": {},
   "source": [
    "And let's examine factor loadings."
   ]
  },
  {
   "cell_type": "code",
   "execution_count": 9,
   "metadata": {},
   "outputs": [
    {
     "name": "stdout",
     "output_type": "stream",
     "text": [
      "Feature \tFactor 1\tFactor 2\n",
      "info    \t   2.167\t   0.834\n",
      "comp    \t   2.086\t  -0.288\n",
      "arith   \t   1.268\t   0.422\n",
      "simil   \t   2.224\t   0.001\n",
      "vocab   \t   2.186\t   0.557\n",
      "digit   \t   0.999\t   0.591\n",
      "pictcomp\t   1.402\t  -1.184\n",
      "parang  \t   0.918\t  -0.683\n",
      "block   \t   1.294\t  -1.125\n",
      "object  \t   1.087\t  -1.362\n",
      "coding  \t   0.198\t   0.065\n"
     ]
    }
   ],
   "source": [
    "# printing out the factor loading\n",
    "print('Feature \\tFactor 1\\tFactor 2')\n",
    "for i, iFeature in enumerate(featureNames):\n",
    "    print('%-8s' % iFeature + '\\t%8.3f' % reFA.components_[0,i]\n",
    "          + '\\t%8.3f' % reFA.components_[1,i])"
   ]
  }
 ],
 "metadata": {
  "kernelspec": {
   "display_name": "Python 3",
   "language": "python",
   "name": "python3"
  },
  "language_info": {
   "codemirror_mode": {
    "name": "ipython",
    "version": 3
   },
   "file_extension": ".py",
   "mimetype": "text/x-python",
   "name": "python",
   "nbconvert_exporter": "python",
   "pygments_lexer": "ipython3",
   "version": "3.5.2"
  }
 },
 "nbformat": 4,
 "nbformat_minor": 2
}
